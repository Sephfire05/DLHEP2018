{
 "cells": [
  {
   "cell_type": "markdown",
   "metadata": {},
   "source": [
    "# Applications of Deep Learning to High Energy Physics\n",
    "## Lab 0- Getting Started\n",
    "\n",
    "\n",
    "### Introduction- Jupyter Basics\n",
    "\n",
    "If you are seeing this page, you have successfully connected to our python server via ssh tunnel, logged in, and navigated to this notebook. Jupyter notebooks consist of cells that can hold text or code (usually python). This text that you are reading, was written into a text cell as simple text \"coding\" language known as mark-down. When a cell is run (either automatically at start of the notebook or manually by pressing shift-enter), the mark-down text is interpreted into nice looking text. Running a code cell will execute the code in that cell and give you the results. If you make a mistake, you can usually simply change the cell and re-run. But be aware that since you ran the mistaken cell already, whatever code that was properly executed before your mistake/error, was already executed and has therefore changed your current python environment accordingly. In some cases this situation will be problematic, and you will need to rerun the notebook from the start by pressing the \"reload\" botton (next to the \"stop\" button) above.\n",
    "\n",
    "### Python Overview\n",
    "\n",
    "Our first few labs are intended to try to force everyone to learn sufficient python, numpy, and HDF5 to perform some basic tasks. In this very first lab, we will introduce the fundamentals of python language. The following notebooks were copied from [github pages of Rajath Kumar](https://github.com/rajathkmp/Python-Lectures) from Indian Institute of Science, [License](https://creativecommons.org/licenses/by/3.0/). They provide a quick overview of basic python syntax. \n",
    "\n",
    "Carefully read through the following notebooks and familiarize yourself with python. Run the code cells (by pressing shift-enter when in the cell) in the notebooks and make sure you understand the output. \n",
    "\n",
    "   * [Variables, Operators, ...](Python-Lectures/01.ipynb)\n",
    "   * [Print Statements](Python-Lectures/02.ipynb)\n",
    "   * [Data Structures](Python-Lectures/03.ipynb)\n",
    "   * [Strings](Python-Lectures/04.ipynb)\n",
    "   * [Control Flow](Python-Lectures/05.ipynb)\n",
    "   * [Functions](Python-Lectures/06.ipynb)\n",
    "   * [Classes](Python-Lectures/07.ipynb)\n"
   ]
  },
  {
   "cell_type": "markdown",
   "metadata": {
    "collapsed": true
   },
   "source": [
    "### Reading Code\n",
    "\n",
    "Reading and understanding code written by others is an important part of learning to code yourself. Carefully read through these [python exercises](http://www.practicepython.org) and their solutions. Then as practice, pick 3 exercises and solve them in this notebook below. You will be asked next week to solve an exercise in class. \n",
    "\n"
   ]
  },
  {
   "cell_type": "markdown",
   "metadata": {},
   "source": [
    "### 1. Exercise (fill in number here) "
   ]
  },
  {
   "cell_type": "code",
   "execution_count": 2,
   "metadata": {
    "collapsed": true
   },
   "outputs": [],
   "source": [
    "num = input(\"Please enter a number: \")\n",
    "mod = num % 2 # The % symbol is remainder like always\n",
    "if mod > 0:\n",
    "  print(\"Your number %d is an odd number\", mod)\n",
    "else:\n",
    "  print(\"Your number %d is an even number\", mod)\n",
    "# %d is always a thing for in syntax lines."
   ]
  },
  {
   "cell_type": "markdown",
   "metadata": {},
   "source": [
    "### 2. Exercise (fill in number here) "
   ]
  },
  {
   "cell_type": "code",
   "execution_count": 3,
   "metadata": {
    "collapsed": true
   },
   "outputs": [],
   "source": [
    "#List Less\n",
    "a = [1, 17, 29, 33, 59, 70, 81, 99] #predefined array\n",
    "#can also do an import random command\n",
    "num = int(input(\"Choose a number: \")) \n",
    "new_list = []\n",
    "for i in a: #for loop in that range\n",
    "    if i <= num\n",
    "        new_list.append(i)\n",
    "            #This has to be a blank line for blocking code\n",
    "print new_list"
   ]
  },
  {
   "cell_type": "markdown",
   "metadata": {},
   "source": [
    "### 3. Exercise (fill in number here) "
   ]
  },
  {
   "cell_type": "code",
   "execution_count": 1,
   "metadata": {},
   "outputs": [
    {
     "name": "stdout",
     "output_type": "stream",
     "text": [
      "How many characters in your password?\n",
      "5\n",
      "6Jwt(\n"
     ]
    }
   ],
   "source": [
    "import string #Imports string dictionary\n",
    "import random #Imports random algorithm\n",
    "\n",
    "#def defines a function pw_gen generates random strings / passwords\n",
    "def pw_gen(size = 8, chars=string.ascii_letters + string.digits + string.punctuation):\n",
    "    return ''.join(random.choice(chars) for _ in range(size))\n",
    "#returns this 'string' thats joined by random chars for that size that you will pull\n",
    "\n",
    "print(pw_gen(int(input('How many characters in your password?\\n'))))\n",
    "#goes from right to left\n",
    "#How many characters in your password > grab the input > which is an integer > use this function \n",
    "#and print this new concatenated string."
   ]
  },
  {
   "cell_type": "markdown",
   "metadata": {},
   "source": [
    "### Test Yourself\n",
    "\n",
    "Write a function that takes in a string and determines the number of unique words (ignoring capitalization and punctuation) and returns an dictionary where the key of each entry is the word and the value is the number of times the word appears in the string. Demonstrate that your function works by applying it to the introduction paragraph above."
   ]
  },
  {
   "cell_type": "code",
   "execution_count": 59,
   "metadata": {},
   "outputs": [
    {
     "name": "stdout",
     "output_type": "stream",
     "text": [
      "Please enter a string.test example\n"
     ]
    }
   ],
   "source": [
    "sequence = input('Please enter a string.')\n",
    "def count(sequence, item):\n",
    "    return print(sum([1 for elem in sequence if elem ==item]))\n",
    "#above lines prints the sum for the elements if it is unique\n",
    "\n",
    "#How the fuck do I print it back?\n",
    "\n",
    "#Spare code\n",
    "#for i in sequence: #for loop in the string sequence\n",
    "#   if item==i: #\n",
    "#      cont+=1\n",
    "#return cont\n"
   ]
  },
  {
   "cell_type": "code",
   "execution_count": null,
   "metadata": {
    "collapsed": true
   },
   "outputs": [],
   "source": [
    "def prime():\n",
    "    num = (int(input(\"Please enter a number.\\n\"))\n",
    "    if (num>1)  #1 is not a prime number\n",
    "        for i in range(2,num): #keep looping i until you get to that number\n",
    "           if (num % i) == 0: #modulus is the man\n",
    "                print('is not a prime number.')\n",
    "                break #breaking the loooooooooooop\n",
    "    elif:\n",
    "        print('is a prime number') #if it IS NOT 0 then it is a prime\n",
    "    else:\n",
    "        print('is not a a prime number') #1 and 0 are special cases. \n",
    "    "
   ]
  },
  {
   "cell_type": "code",
   "execution_count": null,
   "metadata": {
    "collapsed": true
   },
   "outputs": [],
   "source": []
  },
  {
   "cell_type": "code",
   "execution_count": null,
   "metadata": {
    "collapsed": true
   },
   "outputs": [],
   "source": []
  }
 ],
 "metadata": {
  "kernelspec": {
   "display_name": "Python 3",
   "language": "python",
   "name": "python3"
  },
  "language_info": {
   "codemirror_mode": {
    "name": "ipython",
    "version": 3
   },
   "file_extension": ".py",
   "mimetype": "text/x-python",
   "name": "python",
   "nbconvert_exporter": "python",
   "pygments_lexer": "ipython3",
   "version": "3.5.2"
  }
 },
 "nbformat": 4,
 "nbformat_minor": 2
}
